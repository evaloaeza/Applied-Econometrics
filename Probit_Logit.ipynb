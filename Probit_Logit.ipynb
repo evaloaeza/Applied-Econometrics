{
 "cells": [
  {
   "cell_type": "markdown",
   "id": "d9f05e87",
   "metadata": {},
   "source": [
    "# Regression with a Binary Dependent Variable\n",
    "\n",
    "Probit and logit regression are nonlinear regression models designed for binary dependent variables. \n",
    "\n",
    "\n",
    "## The Linear Probability Model\n",
    "\n",
    "The Linear Probability Model (LPM) is simply the application of ordinary least squares (OLS) to binary outcomes instead of continuous outcomes. \n",
    "\n",
    "\\begin{equation}\n",
    "\\begin{split}\n",
    "Y_i &= \\beta_0 + \\beta_1 X_{1i} + \\beta_2 X_{2i} + ... + \\beta_k X_{ki} + u_i\n",
    "\\end{split}\n",
    "\\end{equation} \n",
    "\n",
    "Because $Y$ is binary, $E(Y|X_1, X_2, ..., X_k)= Pr(Y = 1 | X_1, X_2, ..., X_k)$ so for the linear probability model,\n",
    "\n",
    "\\begin{equation}\n",
    "\\begin{split}\n",
    "Pr(Y = 1| X_1, X_2, ..., X_k) &= \\beta_0 + \\beta_1 X_{1} + \\beta_2 X_{2} + ... + \\beta_k X_{k} \n",
    "\\end{split}\n",
    "\\end{equation} \n",
    "\n",
    "The regression coefficient $\\beta_1$ is the change in the probability that $Y=1$ associated with a unit change in $X_1$, holding constant the other regressors, and so forth for $\\beta_2, ..., \\beta_k$.\n",
    "\n",
    "### Disadvantage\n",
    "\n",
    "The main disadvantage of the LPM is the linearity form of the model. Because probabilities must lie between zero and one, the effect on the probability that $Y=1$ of a given change in $X$ must be nonlinear.\n",
    "\n",
    "The LPM assumes a constant marginal effect of $X$ for all values of $X$, but the marginal effect of $X$ almost always varies with respect to $X$. In extreme cases this misspecification of the functional form of the LPM can even lead to predicted probabilities that\n",
    "are less than 0 or greater than 1.\n",
    "\n",
    "\n",
    "## Probit Model\n",
    "\n",
    "The population probit model with multiple regressors is:\n",
    "\n",
    "\\begin{equation}\n",
    "\\begin{split}\n",
    "Pr(Y = 1| X_1, X_2, ..., X_k) &= \\Phi(\\beta_0 + \\beta_1 X_{1} + \\beta_2 X_{2} + ... \\beta_k X_{k})\n",
    "\\end{split}\n",
    "\\end{equation} \n",
    "\n",
    "where the dependent variable $Y$ is binary, $\\Phi$ is the cumulative standard normal distribution function, and $X_1,X_2$ and so on are regressors. \n",
    "\n",
    "The coefficient $\\beta_1$ is the change in the $z-$value arising from a unit change in $X_1$, holding constant $X_2,...,X_k$.\n",
    "\n",
    "## Logit Regression\n",
    "The logit model is very similar to the probit model. The only difference is that the function $F(x)$ is now the logistic function. The population logit model of the binary dependent variable $Y$ with multiple regressors is:\n",
    "\n",
    "\\begin{equation}\\label{eq:1}\n",
    "\\begin{split}\n",
    "Pr(Y = 1| X_1, X_2, ..., X_k) &= F(\\beta_0 + \\beta_1 X_{1} + \\beta_2 X_{2} + ... \\beta_k X_{k}) \\\\\n",
    " &= \\frac{1}{1+ e^{-(\\beta_0 + \\beta_1 X_{1} + \\beta_2 X_{2} + ... \\beta_k X_{k})}}\n",
    "\\end{split}\n",
    "\\end{equation}\n",
    "\n"
   ]
  },
  {
   "cell_type": "markdown",
   "id": "a7bcaf5b",
   "metadata": {},
   "source": [
    "## Empirical Exercise in Stata\n",
    "\n",
    "Note: This material is based on the [Companion Website for Stock and Watson's Introduction to Econometrics](https://wps.pearsoned.com/aw_stock_ie_3/178/45691/11696959.cw/index.html).\n",
    "\n",
    "### Set Stata Magic in Python"
   ]
  },
  {
   "cell_type": "code",
   "execution_count": 1,
   "id": "5f472f33",
   "metadata": {},
   "outputs": [],
   "source": [
    "%%capture\n",
    "import os\n",
    "os.chdir('/Program Files/Stata17/utilities')\n",
    "from pystata import config\n",
    "config.init('se')"
   ]
  },
  {
   "cell_type": "markdown",
   "id": "48a65a5d",
   "metadata": {},
   "source": [
    "### Import Data from Web"
   ]
  },
  {
   "cell_type": "code",
   "execution_count": 2,
   "id": "e7f43188",
   "metadata": {
    "scrolled": true
   },
   "outputs": [
    {
     "name": "stdout",
     "output_type": "stream",
     "text": [
      "\n",
      ". * Open Stata file from web page book\n",
      ". use https://wps.pearsoned.com/wps/media/objects/11422/11696965/data3eu/employ\n",
      "> ment_08_09.dta, clear\n",
      "\n",
      ". \n"
     ]
    }
   ],
   "source": [
    "%%stata\n",
    "* Open Stata file from web page book\n",
    "use https://wps.pearsoned.com/wps/media/objects/11422/11696965/data3eu/employment_08_09.dta, clear"
   ]
  },
  {
   "cell_type": "code",
   "execution_count": 3,
   "id": "3b43a116",
   "metadata": {},
   "outputs": [
    {
     "name": "stdout",
     "output_type": "stream",
     "text": [
      "\n",
      "Contains data from https://wps.pearsoned.com/wps/media/objects/11422/11696965/d\n",
      "> ata3eu/employment_08_09.dta\n",
      " Observations:         5,412                  \n",
      "    Variables:            21                  15 Jun 2014 18:57\n",
      "-------------------------------------------------------------------------------\n",
      "Variable      Storage   Display    Value\n",
      "    name         type    format    label      Variable label\n",
      "-------------------------------------------------------------------------------\n",
      "age             byte    %8.0g                 Age\n",
      "race            byte    %8.0g                 Race\n",
      "earnwke         double  %10.0g                (e&dp) Earnings per week\n",
      "employed        float   %9.0g                 \n",
      "unemployed      float   %9.0g                 \n",
      "married         float   %9.0g                 \n",
      "union           float   %9.0g                 \n",
      "ne_states       float   %9.0g                 \n",
      "so_states       float   %9.0g                 \n",
      "ce_states       float   %9.0g                 \n",
      "we_states       float   %9.0g                 \n",
      "government      float   %9.0g                 \n",
      "private         float   %9.0g                 \n",
      "self            float   %9.0g                 \n",
      "educ_lths       float   %9.0g                 \n",
      "educ_hs         float   %9.0g                 \n",
      "educ_somecol    float   %9.0g                 \n",
      "educ_aa         float   %9.0g                 \n",
      "educ_bac        float   %9.0g                 \n",
      "educ_adv        float   %9.0g                 \n",
      "female          float   %9.0g                 \n",
      "-------------------------------------------------------------------------------\n",
      "Sorted by: \n"
     ]
    }
   ],
   "source": [
    "%%stata\n",
    "des"
   ]
  },
  {
   "cell_type": "markdown",
   "id": "d2db03bd",
   "metadata": {},
   "source": [
    "a. What fraction of workers in the sample were employed in April 2009? Compute a 95% confidence interval for the probability that a worker was employed in April 2009, conditional on being employed in April 2008."
   ]
  },
  {
   "cell_type": "code",
   "execution_count": 4,
   "id": "96ef20f7",
   "metadata": {},
   "outputs": [
    {
     "name": "stdout",
     "output_type": "stream",
     "text": [
      "\n",
      ". tab employed\n",
      "\n",
      "   employed |      Freq.     Percent        Cum.\n",
      "------------+-----------------------------------\n",
      "          0 |        674       12.45       12.45\n",
      "          1 |      4,738       87.55      100.00\n",
      "------------+-----------------------------------\n",
      "      Total |      5,412      100.00\n",
      "\n",
      ". sum employed\n",
      "\n",
      "    Variable |        Obs        Mean    Std. dev.       Min        Max\n",
      "-------------+---------------------------------------------------------\n",
      "    employed |      5,412    .8754619    .3302249          0          1\n",
      "\n",
      ". dis r(mean)*100 \"% workers were employed in Apr-2009\"\n",
      "87.546194% workers were employed in Apr-2009\n",
      "\n",
      ". local se = r(sd) / (r(N))^0.5 // standard error\n",
      "\n",
      ". dis \"standard error \" `se'\n",
      "standard error .00448881\n",
      "\n",
      ". local ci_l = r(mean) -`se'*1.96 \n",
      "\n",
      ". local ci_u = r(mean) +`se'*1.96 \n",
      "\n",
      ". dis \"CI Lower Bound \" `ci_l' \n",
      "CI Lower Bound .86666387\n",
      "\n",
      ". dis \"CI Upper Bound \" `ci_u'\n",
      "CI Upper Bound .88426\n",
      "\n",
      ". \n",
      ". ** We can use the stata $ci$ command\n",
      ". ci means employed\n",
      "\n",
      "    Variable |        Obs        Mean    Std. err.       [95% conf. interval]\n",
      "-------------+---------------------------------------------------------------\n",
      "    employed |      5,412    .8754619    .0044888        .8666621    .8842618\n",
      "\n",
      ". \n"
     ]
    }
   ],
   "source": [
    "%%stata\n",
    "tab employed\n",
    "sum employed\n",
    "dis r(mean)*100 \"% workers were employed in Apr-2009\"\n",
    "local se = r(sd) / (r(N))^0.5 // standard error\n",
    "dis \"standard error \" `se'\n",
    "local ci_l = r(mean) -`se'*1.96 \n",
    "local ci_u = r(mean) +`se'*1.96 \n",
    "dis \"CI Lower Bound \" `ci_l' \n",
    "dis \"CI Upper Bound \" `ci_u'\n",
    "\n",
    "** We can use the stata $ci$ command\n",
    "ci means employed"
   ]
  },
  {
   "cell_type": "markdown",
   "id": "bcaaf5a9",
   "metadata": {},
   "source": [
    "b. Regress employed on $age$ and $age^2$, using a linear probability model."
   ]
  },
  {
   "cell_type": "code",
   "execution_count": 5,
   "id": "0da03af1",
   "metadata": {},
   "outputs": [
    {
     "name": "stdout",
     "output_type": "stream",
     "text": [
      "\n",
      ". * gen age squared\n",
      ". gen agesqr = age*age\n",
      "\n",
      ". \n",
      ". eststo ols0: reg employed age agesqr, r\n",
      "\n",
      "Linear regression                               Number of obs     =      5,412\n",
      "                                                F(2, 5409)        =      37.50\n",
      "                                                Prob > F          =     0.0000\n",
      "                                                R-squared         =     0.0197\n",
      "                                                Root MSE          =     .32702\n",
      "\n",
      "------------------------------------------------------------------------------\n",
      "             |               Robust\n",
      "    employed | Coefficient  std. err.      t    P>|t|     [95% conf. interval]\n",
      "-------------+----------------------------------------------------------------\n",
      "         age |   .0282722   .0032812     8.62   0.000     .0218398    .0347047\n",
      "      agesqr |  -.0003266   .0000388    -8.42   0.000    -.0004026   -.0002506\n",
      "       _cons |   .3074929   .0668583     4.60   0.000     .1764237    .4385621\n",
      "------------------------------------------------------------------------------\n",
      "\n",
      ". \n"
     ]
    }
   ],
   "source": [
    "%%stata\n",
    "* gen age squared\n",
    "gen agesqr = age*age\n",
    "\n",
    "eststo ols0: reg employed age agesqr, r"
   ]
  },
  {
   "cell_type": "markdown",
   "id": "6927de93",
   "metadata": {},
   "source": [
    "b.i Based on this regression, was age a statistically significant determinant of employment in April 2009? \n",
    "b.ii. Is there evidence of a nonlinear effect of age on the probability of being employed?"
   ]
  },
  {
   "cell_type": "code",
   "execution_count": 6,
   "id": "e4d486e3",
   "metadata": {},
   "outputs": [
    {
     "name": "stdout",
     "output_type": "stream",
     "text": [
      "\n",
      ". ** Test joint significance of age and age^2\n",
      ". test age agesqr\n",
      "\n",
      " ( 1)  age = 0\n",
      " ( 2)  agesqr = 0\n",
      "\n",
      "       F(  2,  5409) =   37.50\n",
      "            Prob > F =    0.0000\n",
      "\n",
      ". \n"
     ]
    }
   ],
   "source": [
    "%%stata\n",
    "** Test joint significance of age and age^2\n",
    "test age agesqr"
   ]
  },
  {
   "cell_type": "markdown",
   "id": "5964f85a",
   "metadata": {},
   "source": [
    "b.iii. Compute the predicted probability of employment for a 20-year-old worker, a 40-year-old worker, and a 60-year-old worker."
   ]
  },
  {
   "cell_type": "code",
   "execution_count": 7,
   "id": "963bb828",
   "metadata": {},
   "outputs": [
    {
     "name": "stdout",
     "output_type": "stream",
     "text": [
      "\n",
      ". forvalues i = 20(20)60 {\n",
      "  2.         scalar age`i' = _b[_cons] + _b[age]*`i' + _b[agesqr]*(`i'^2)\n",
      "  3.         dis \"Predicted Prob. of Employment for a \" `i' \" year old worker  \n",
      "> \" age`i'     \n",
      "  4. }\n",
      "Predicted Prob. of Employment for a 20 year old worker  .74228415\n",
      "Predicted Prob. of Employment for a 40 year old worker  .91576846\n",
      "Predicted Prob. of Employment for a 60 year old worker  .82794584\n",
      "\n",
      ". \n"
     ]
    }
   ],
   "source": [
    "%%stata\n",
    "forvalues i = 20(20)60 {\n",
    "\tscalar age`i' = _b[_cons] + _b[age]*`i' + _b[agesqr]*(`i'^2)\n",
    "\tdis \"Predicted Prob. of Employment for a \" `i' \" year old worker  \" age`i'     \n",
    "}"
   ]
  },
  {
   "cell_type": "markdown",
   "id": "5171cadd",
   "metadata": {},
   "source": [
    "c. Regress Employed on $Age$ and $Age^2$, using a probit model. Compute the predicted probability of employment for a 20-year-old worker, a 40-year-old worker, and a 60-year-old worker."
   ]
  },
  {
   "cell_type": "code",
   "execution_count": 8,
   "id": "d2dadad7",
   "metadata": {},
   "outputs": [
    {
     "name": "stdout",
     "output_type": "stream",
     "text": [
      "\n",
      ". eststo prob0: probit employed age agesqr, r\n",
      "\n",
      "Iteration 0:   log pseudolikelihood = -2034.2101  \n",
      "Iteration 1:   log pseudolikelihood = -1987.1391  \n",
      "Iteration 2:   log pseudolikelihood = -1986.9186  \n",
      "Iteration 3:   log pseudolikelihood = -1986.9186  \n",
      "\n",
      "Probit regression                                       Number of obs =  5,412\n",
      "                                                        Wald chi2(2)  =  92.89\n",
      "                                                        Prob > chi2   = 0.0000\n",
      "Log pseudolikelihood = -1986.9186                       Pseudo R2     = 0.0232\n",
      "\n",
      "------------------------------------------------------------------------------\n",
      "             |               Robust\n",
      "    employed | Coefficient  std. err.      z    P>|z|     [95% conf. interval]\n",
      "-------------+----------------------------------------------------------------\n",
      "         age |   .1217233   .0128959     9.44   0.000     .0964477    .1469988\n",
      "      agesqr |  -.0014125   .0001555    -9.09   0.000    -.0017172   -.0011078\n",
      "       _cons |  -1.257933   .2499188    -5.03   0.000    -1.747765   -.7681008\n",
      "------------------------------------------------------------------------------\n",
      "\n",
      ". \n",
      ". forvalues i = 20(20)60 {\n",
      "  2.         scalar age`i'p = normprob(_b[_cons] + _b[age]*`i' + _b[agesqr]*(`i\n",
      "> '^2))\n",
      "  3.         dis \"Predicted Prob. of Employment for a \" `i' \" year old worker  \n",
      "> \" age`i'p     \n",
      "  4. }\n",
      "Predicted Prob. of Employment for a 20 year old worker  .72958151\n",
      "Predicted Prob. of Employment for a 40 year old worker  .91166173\n",
      "Predicted Prob. of Employment for a 60 year old worker  .83162355\n",
      "\n",
      ". \n"
     ]
    }
   ],
   "source": [
    "%%stata\n",
    "eststo prob0: probit employed age agesqr, r\n",
    "\n",
    "forvalues i = 20(20)60 {\n",
    "\tscalar age`i'p = normprob(_b[_cons] + _b[age]*`i' + _b[agesqr]*(`i'^2))\n",
    "\tdis \"Predicted Prob. of Employment for a \" `i' \" year old worker  \" age`i'p     \n",
    "}"
   ]
  },
  {
   "cell_type": "markdown",
   "id": "28a846d3",
   "metadata": {},
   "source": [
    "d. Regress Employed on $Age$ and $Age^2$, using a logit model. Compute the predicted probability of employment for a 20-year-old worker, a 40-year-old worker, and a 60-year-old worker."
   ]
  },
  {
   "cell_type": "code",
   "execution_count": 9,
   "id": "28c7ea18",
   "metadata": {},
   "outputs": [
    {
     "name": "stdout",
     "output_type": "stream",
     "text": [
      "\n",
      ". eststo log0: logit employed age agesqr, r\n",
      "\n",
      "Iteration 0:   log pseudolikelihood = -2034.2101  \n",
      "Iteration 1:   log pseudolikelihood = -1989.3895  \n",
      "Iteration 2:   log pseudolikelihood = -1986.4342  \n",
      "Iteration 3:   log pseudolikelihood = -1986.4295  \n",
      "Iteration 4:   log pseudolikelihood = -1986.4295  \n",
      "\n",
      "Logistic regression                                     Number of obs =  5,412\n",
      "                                                        Wald chi2(2)  =  97.85\n",
      "                                                        Prob > chi2   = 0.0000\n",
      "Log pseudolikelihood = -1986.4295                       Pseudo R2     = 0.0235\n",
      "\n",
      "------------------------------------------------------------------------------\n",
      "             |               Robust\n",
      "    employed | Coefficient  std. err.      z    P>|z|     [95% conf. interval]\n",
      "-------------+----------------------------------------------------------------\n",
      "         age |   .2254662   .0234547     9.61   0.000     .1794959    .2714366\n",
      "      agesqr |  -.0026237   .0002848    -9.21   0.000    -.0031818   -.0020655\n",
      "       _cons |  -2.489754    .446196    -5.58   0.000    -3.364282   -1.615226\n",
      "------------------------------------------------------------------------------\n",
      "\n",
      ". \n",
      ". forvalues i = 20(20)60 {\n",
      "  2.         scalar xb`i' = _b[_cons] + _b[age]*`i' + _b[agesqr]*(`i'^2)\n",
      "  3.         scalar age`i'l =  1/(1+exp(-xb`i'))\n",
      "  4.         dis \"Predicted Prob. of Employment for a \" `i' \" year old worker  \n",
      "> \" age`i'l \n",
      "  5. }\n",
      "Predicted Prob. of Employment for a 20 year old worker  .72514099\n",
      "Predicted Prob. of Employment for a 40 year old worker  .91141566\n",
      "Predicted Prob. of Employment for a 60 year old worker  .83104537\n",
      "\n",
      ". \n"
     ]
    }
   ],
   "source": [
    "%%stata\n",
    "eststo log0: logit employed age agesqr, r\n",
    "\n",
    "forvalues i = 20(20)60 {\n",
    "\tscalar xb`i' = _b[_cons] + _b[age]*`i' + _b[agesqr]*(`i'^2)\n",
    "\tscalar age`i'l =  1/(1+exp(-xb`i'))\n",
    "\tdis \"Predicted Prob. of Employment for a \" `i' \" year old worker  \" age`i'l \n",
    "}"
   ]
  },
  {
   "cell_type": "markdown",
   "id": "ab25c188",
   "metadata": {},
   "source": [
    "f. The data set includes variables measuring the workers’ educational attainment, sex, race, marital status, and weekly earnings in April 2008. Run a regression including these variables and investigate whether the conclusion on the effect of age on employment from (b)-(d) are affected by omitted variable bias.\n",
    "\n",
    "Generate variables "
   ]
  },
  {
   "cell_type": "code",
   "execution_count": 10,
   "id": "5bd82f60",
   "metadata": {},
   "outputs": [
    {
     "name": "stdout",
     "output_type": "stream",
     "text": [
      "\n",
      ". * Generate dummy variable for race\n",
      ". gen white =race==1\n",
      "\n",
      ". \n",
      ". * Generate dummy variables for education\n",
      ". g educ_1 =(educ_lths==1 | educ_hs==1)\n",
      "\n",
      ". g educ_2 =(educ_somecol==1|educ_aa==1)\n",
      "\n",
      ". g educ_3 =educ_bac==1\n",
      "\n",
      ". g educ_4 =educ_adv==1\n",
      "\n",
      ". \n"
     ]
    }
   ],
   "source": [
    "%%stata\n",
    "* Generate dummy variable for race\n",
    "gen white =race==1\n",
    "\n",
    "* Generate dummy variables for education\n",
    "g educ_1 =(educ_lths==1 | educ_hs==1)\n",
    "g educ_2 =(educ_somecol==1|educ_aa==1)\n",
    "g educ_3 =educ_bac==1\n",
    "g educ_4 =educ_adv==1"
   ]
  },
  {
   "cell_type": "markdown",
   "id": "a35cafb8",
   "metadata": {},
   "source": [
    "Results from (b)-(f) can be summarized in the following table:"
   ]
  },
  {
   "cell_type": "code",
   "execution_count": 19,
   "id": "f1697c46",
   "metadata": {
    "scrolled": true
   },
   "outputs": [
    {
     "name": "stdout",
     "output_type": "stream",
     "text": [
      "\n",
      ". gl controls age agesqr white female married earnwke educ_2 educ_3 educ_4\n",
      "\n",
      ". qui: eststo ols:reg employed $controls , r\n",
      "\n",
      ". qui: eststo probit: probit employed $controls , r\n",
      "\n",
      ". qui: eststo logit: logit employed $controls , r\n",
      "\n",
      ".     \n",
      ". esttab ols0 prob0 log0, se star(* 0.10 ** 0.05 *** 0.01) b(%5.3f) ///\n",
      "> nonumbers mtitles(\"OLS\" \"Probit\" \"Logit\" \"OLS\" \"Probit\" \"Logit\") ///\n",
      "> title(Regressions with a Binary Dependent Variables: No controls)\n",
      "\n",
      "Regressions with a Binary Dependent Variables: No controls\n",
      "------------------------------------------------------------\n",
      "                      OLS          Probit           Logit   \n",
      "------------------------------------------------------------\n",
      "main                                                        \n",
      "age                 0.028***        0.122***        0.225***\n",
      "                  (0.003)         (0.013)         (0.023)   \n",
      "\n",
      "agesqr             -0.000***       -0.001***       -0.003***\n",
      "                  (0.000)         (0.000)         (0.000)   \n",
      "\n",
      "_cons               0.307***       -1.258***       -2.490***\n",
      "                  (0.067)         (0.250)         (0.446)   \n",
      "------------------------------------------------------------\n",
      "N                    5412            5412            5412   \n",
      "------------------------------------------------------------\n",
      "Standard errors in parentheses\n",
      "* p<0.10, ** p<0.05, *** p<0.01\n",
      "\n",
      ". \n",
      ". esttab ols probit logit, se star(* 0.10 ** 0.05 *** 0.01) b(%5.3f) ///\n",
      "> nonumbers mtitles(\"OLS\" \"Probit\" \"Logit\" \"OLS\" \"Probit\" \"Logit\") ///\n",
      "> title(Regressions with a Binary Dependent Variables: With Controls)\n",
      "\n",
      "Regressions with a Binary Dependent Variables: With Controls\n",
      "------------------------------------------------------------\n",
      "                      OLS          Probit           Logit   \n",
      "------------------------------------------------------------\n",
      "main                                                        \n",
      "age                 0.025***        0.106***        0.193***\n",
      "                  (0.004)         (0.015)         (0.027)   \n",
      "\n",
      "agesqr             -0.000***       -0.001***       -0.002***\n",
      "                  (0.000)         (0.000)         (0.000)   \n",
      "\n",
      "white               0.026*          0.119*          0.225** \n",
      "                  (0.014)         (0.062)         (0.113)   \n",
      "\n",
      "female             -0.003          -0.015          -0.022   \n",
      "                  (0.010)         (0.050)         (0.094)   \n",
      "\n",
      "married            -0.002          -0.015          -0.033   \n",
      "                  (0.010)         (0.053)         (0.101)   \n",
      "\n",
      "earnwke             0.000***        0.000***        0.000***\n",
      "                  (0.000)         (0.000)         (0.000)   \n",
      "\n",
      "educ_2              0.036***        0.175***        0.315***\n",
      "                  (0.012)         (0.058)         (0.108)   \n",
      "\n",
      "educ_3              0.020           0.089           0.139   \n",
      "                  (0.014)         (0.069)         (0.130)   \n",
      "\n",
      "educ_4              0.033**         0.160*          0.278   \n",
      "                  (0.016)         (0.090)         (0.177)   \n",
      "\n",
      "_cons               0.308***       -1.263***       -2.443***\n",
      "                  (0.072)         (0.277)         (0.497)   \n",
      "------------------------------------------------------------\n",
      "N                    4773            4773            4773   \n",
      "------------------------------------------------------------\n",
      "Standard errors in parentheses\n",
      "* p<0.10, ** p<0.05, *** p<0.01\n",
      "\n",
      ". \n"
     ]
    }
   ],
   "source": [
    "%%stata\n",
    "gl controls age agesqr white female married earnwke educ_2 educ_3 educ_4\n",
    "qui: eststo ols:reg employed $controls , r\n",
    "qui: eststo probit: probit employed $controls , r\n",
    "qui: eststo logit: logit employed $controls , r\n",
    "    \n",
    "esttab ols0 prob0 log0, se star(* 0.10 ** 0.05 *** 0.01) b(%5.3f) ///\n",
    "nonumbers mtitles(\"OLS\" \"Probit\" \"Logit\") ///\n",
    "title(Regressions with a Binary Dependent Variables)\n",
    "\n",
    "esttab ols probit logit, se star(* 0.10 ** 0.05 *** 0.01) b(%5.3f) ///\n",
    "nonumbers mtitles(\"OLS\" \"Probit\" \"Logit\") ///\n",
    "title(Regressions with a Binary Dependent Variables: Additional Controls)"
   ]
  },
  {
   "cell_type": "markdown",
   "id": "8164b009",
   "metadata": {},
   "source": [
    "The results in (a)–(f) were based on the probability of employment. Workers who are not employed can either be (i) unemployed or (ii) out the labor force. Do the conclusions in (a)–(f) also hold for workers who became unemployed? "
   ]
  },
  {
   "cell_type": "code",
   "execution_count": 22,
   "id": "03fb9662",
   "metadata": {},
   "outputs": [
    {
     "name": "stdout",
     "output_type": "stream",
     "text": [
      "\n",
      ". qui: eststo uols0: reg unemployed age agesqr, r\n",
      "\n",
      ". qui: eststo uprobit0: probit unemployed age agesqr, r\n",
      "\n",
      ". qui: eststo ulogit0: logit unemployed age agesqr, r\n",
      "\n",
      ". qui: eststo uols: reg unemployed $controls , r\n",
      "\n",
      ". qui: eststo uprobit: probit unemployed $controls , r\n",
      "\n",
      ". qui: eststo ulogit: logit unemployed $controls , r\n",
      "\n",
      ". \n",
      ". esttab uols0 uprobit0 ulogit0, se star(* 0.10 ** 0.05 *** 0.01) b(%5.3f) ///\n",
      "> nonumbers mtitles(\"OLS\" \"Probit\" \"Logit\") ///\n",
      "> title(Regressions with a Binary Dependent Variables)\n",
      "\n",
      "Regressions with a Binary Dependent Variables\n",
      "------------------------------------------------------------\n",
      "                      OLS          Probit           Logit   \n",
      "------------------------------------------------------------\n",
      "main                                                        \n",
      "age                -0.007***       -0.065***       -0.142***\n",
      "                  (0.002)         (0.017)         (0.037)   \n",
      "\n",
      "agesqr              0.000***        0.001***        0.002***\n",
      "                  (0.000)         (0.000)         (0.000)   \n",
      "\n",
      "_cons               0.192***       -0.346          -0.142   \n",
      "                  (0.042)         (0.336)         (0.706)   \n",
      "------------------------------------------------------------\n",
      "N                    5412            5412            5412   \n",
      "------------------------------------------------------------\n",
      "Standard errors in parentheses\n",
      "* p<0.10, ** p<0.05, *** p<0.01\n",
      "\n",
      ". \n",
      ". esttab uols uprobit ulogit, se star(* 0.10 ** 0.05 *** 0.01) b(%5.3f) ///\n",
      "> nonumbers mtitles(\"OLS\" \"Probit\" \"Logit\") ///\n",
      "> title(Regressions with a Binary Dependent Variables: Additional Controls)\n",
      "\n",
      "Regressions with a Binary Dependent Variables: Additional Controls\n",
      "------------------------------------------------------------\n",
      "                      OLS          Probit           Logit   \n",
      "------------------------------------------------------------\n",
      "main                                                        \n",
      "age                -0.005**        -0.045**        -0.093** \n",
      "                  (0.002)         (0.019)         (0.042)   \n",
      "\n",
      "agesqr              0.000**         0.001**         0.001** \n",
      "                  (0.000)         (0.000)         (0.001)   \n",
      "\n",
      "white              -0.012          -0.115          -0.229   \n",
      "                  (0.009)         (0.082)         (0.173)   \n",
      "\n",
      "female             -0.021***       -0.222***       -0.474***\n",
      "                  (0.007)         (0.067)         (0.146)   \n",
      "\n",
      "married            -0.014**        -0.146**        -0.302*  \n",
      "                  (0.007)         (0.071)         (0.156)   \n",
      "\n",
      "earnwke            -0.000          -0.000          -0.000   \n",
      "                  (0.000)         (0.000)         (0.000)   \n",
      "\n",
      "educ_2             -0.030***       -0.275***       -0.587***\n",
      "                  (0.008)         (0.076)         (0.166)   \n",
      "\n",
      "educ_3             -0.028***       -0.256***       -0.548***\n",
      "                  (0.009)         (0.090)         (0.201)   \n",
      "\n",
      "educ_4             -0.040***       -0.450***       -0.988***\n",
      "                  (0.010)         (0.132)         (0.309)   \n",
      "\n",
      "_cons               0.205***       -0.303          -0.173   \n",
      "                  (0.047)         (0.369)         (0.771)   \n",
      "------------------------------------------------------------\n",
      "N                    4773            4773            4773   \n",
      "------------------------------------------------------------\n",
      "Standard errors in parentheses\n",
      "* p<0.10, ** p<0.05, *** p<0.01\n",
      "\n",
      ". \n"
     ]
    }
   ],
   "source": [
    "%%stata\n",
    "qui: eststo uols0: reg unemployed age agesqr, r\n",
    "qui: eststo uprobit0: probit unemployed age agesqr, r\n",
    "qui: eststo ulogit0: logit unemployed age agesqr, r\n",
    "qui: eststo uols: reg unemployed $controls , r\n",
    "qui: eststo uprobit: probit unemployed $controls , r\n",
    "qui: eststo ulogit: logit unemployed $controls , r\n",
    "\n",
    "esttab uols0 uprobit0 ulogit0, se star(* 0.10 ** 0.05 *** 0.01) b(%5.3f) ///\n",
    "nonumbers mtitles(\"OLS\" \"Probit\" \"Logit\") ///\n",
    "title(Regressions with a Binary Dependent Variables)\n",
    "\n",
    "esttab uols uprobit ulogit, se star(* 0.10 ** 0.05 *** 0.01) b(%5.3f) ///\n",
    "nonumbers mtitles(\"OLS\" \"Probit\" \"Logit\") ///\n",
    "title(Regressions with a Binary Dependent Variables: Additional Controls)"
   ]
  },
  {
   "cell_type": "code",
   "execution_count": null,
   "id": "84bf9479",
   "metadata": {},
   "outputs": [],
   "source": []
  }
 ],
 "metadata": {
  "kernelspec": {
   "display_name": "Python 3 (ipykernel)",
   "language": "python",
   "name": "python3"
  },
  "language_info": {
   "codemirror_mode": {
    "name": "ipython",
    "version": 3
   },
   "file_extension": ".py",
   "mimetype": "text/x-python",
   "name": "python",
   "nbconvert_exporter": "python",
   "pygments_lexer": "ipython3",
   "version": "3.9.7"
  }
 },
 "nbformat": 4,
 "nbformat_minor": 5
}
